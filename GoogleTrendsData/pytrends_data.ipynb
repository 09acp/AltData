{
 "cells": [
  {
   "cell_type": "markdown",
   "metadata": {},
   "source": [
    "# Creating a dataset for gaming stock Activision (ATVI)\n",
    "To gain insight into search popularity of its games \n",
    "\n",
    "References \n",
    "- https://pypi.org/project/pytrends/\n",
    "- https://towardsdatascience.com/heartbreak-monday-blues-and-pytrends-f1a398591a79\n",
    "- https://github.com/ThatShelbs/Trend-Py-Sheets-Tab/blob/master/Trend-Py-Sheets-Tab.ipynb \n",
    "    - saves data into google spreadsheet to be used as inputs for Tableau\n",
    "    - end result: https://public.tableau.com/views/TheButterflyKneeffect/TheButterflyKneeffect?:showVizHome=no&:embed=y&:toolbar=n#5"
   ]
  },
  {
   "cell_type": "code",
   "execution_count": 1,
   "metadata": {},
   "outputs": [],
   "source": [
    "import pandas as pd \n",
    "import numpy as np\n",
    "from pytrends.request import TrendReq # Pseudo Google Search API\n",
    "#import pygsheets # Google spreadsheet\n",
    "import matplotlib.pyplot as plt\n",
    "import seaborn as sns\n"
   ]
  },
  {
   "cell_type": "markdown",
   "metadata": {},
   "source": [
    "### Download search data\n",
    "##### Interest over time\n",
    "Numbers represent search interest relative to the highest point on the chart for the given region and time. A value of 100 is the peak popularity for the term. A value of 50 means that the term is half as popular. A score of 0 means there was not enough data for this term.\n",
    "\n",
    "##### Features\n",
    "- from dashboard GT can find: related topics / related terms\n",
    "- different types of searches (images/news/shopping/youtube)\n",
    "- different categories \n",
    "- different location"
   ]
  },
  {
   "cell_type": "code",
   "execution_count": 11,
   "metadata": {},
   "outputs": [],
   "source": [
    "#Start with google trends\n",
    "pytrend = TrendReq()\n",
    "\n",
    "# Up to five terms in a list\n",
    "kw_list=[\"Activision\",\"ATVI\",\"Call of Duty\"]\n",
    "pytrend.build_payload(kw_list,geo='US')\n",
    "\n",
    "# l = []\n",
    "# kw_list=[\"Activision\",\"ATVI\",\"Call of Duty\"]\n",
    "# #pytrend.build_payload(word,geo='US')\n",
    "# for word in kw_list:\n",
    "#     pytrend.build_payload([word],geo='US')\n",
    "#     l.append(pytrend.interest_over_time())\n",
    "# df = pd.concat(l,axis=0)"
   ]
  },
  {
   "cell_type": "code",
   "execution_count": 16,
   "metadata": {},
   "outputs": [],
   "source": [
    "df = pytrend.interest_over_time()\n",
    "#end google trends\n"
   ]
  },
  {
   "cell_type": "code",
   "execution_count": 10,
   "metadata": {},
   "outputs": [
    {
     "name": "stdout",
     "output_type": "stream",
     "text": [
      "            Activision  ATVI  Call of Duty isPartial\n",
      "date                                                \n",
      "2015-01-04           1     0            34     False\n",
      "2015-01-11           1     0            30     False\n",
      "2015-01-18           1     0            31     False\n",
      "2015-01-25           1     0            35     False\n",
      "2015-02-01           1     1            30     False\n"
     ]
    },
    {
     "data": {
      "text/plain": [
       "<matplotlib.axes._subplots.AxesSubplot at 0x17d38ca63c8>"
      ]
     },
     "execution_count": 10,
     "metadata": {},
     "output_type": "execute_result"
    },
    {
     "data": {
      "image/png": "[encoded data removed]",
      "text/plain": [
       "<Figure size 720x360 with 1 Axes>"
      ]
     },
     "metadata": {
      "needs_background": "light"
     },
     "output_type": "display_data"
    }
   ],
   "source": [
    "print(df.head())\n",
    "df['Activision'].plot(figsize = (10,5))"
   ]
  },
  {
   "cell_type": "markdown",
   "metadata": {},
   "source": [
    "### Obervations ATVI\n",
    "\n",
    "- Peak shopping searches at Nov each year\n",
    "- search volume trends change depending on search type "
   ]
  },
  {
   "cell_type": "markdown",
   "metadata": {},
   "source": [
    "#### Seaborn heatmap broken with current matplotlib"
   ]
  },
  {
   "cell_type": "raw",
   "metadata": {},
   "source": [
    "# Correlation Matrix Heatmap\n",
    "f, ax = plt.subplots(figsize=(10, 6))\n",
    "\n",
    "corr = df.drop(['isPartial'],axis=1).corr()\n",
    "\n",
    "hm = sns.heatmap(round(corr,2), annot=True, ax=ax, cmap=\"coolwarm\")\n",
    "#                  ,fmt='.2f',\n",
    "#                  linewidths=.05)\n",
    "# # f.subplots_adjust(top=0.93)\n",
    "ax.set(yticks=[0, 3], \n",
    "       xticks=[0, 1.5], \n",
    "       yticklabels=corr.columns, \n",
    "       xticklabels=corr.columns) \n",
    "t= f.suptitle('Wine Attributes Correlation Heatmap', fontsize=14)"
   ]
  },
  {
   "cell_type": "code",
   "execution_count": null,
   "metadata": {},
   "outputs": [],
   "source": [
    "corr = df.drop(['isPartial'],axis=1).corr()\n",
    "\n",
    "plt.imshow(corr, cmap='hot', interpolation='nearest')\n",
    "\n",
    "plt.show()"
   ]
  },
  {
   "cell_type": "markdown",
   "metadata": {},
   "source": [
    "### Alternatives \n",
    "\n",
    "- Google AdWords.\n",
    "\n",
    "Adwords tool isnt for finding the search data , but it will show how advertisers are showing interest on a specific query . Thus showing populatity or competitiveness of a query ."
   ]
  },
  {
   "cell_type": "code",
   "execution_count": null,
   "metadata": {},
   "outputs": [],
   "source": []
  },
  {
   "cell_type": "code",
   "execution_count": null,
   "metadata": {},
   "outputs": [],
   "source": []
  },
  {
   "cell_type": "code",
   "execution_count": null,
   "metadata": {},
   "outputs": [],
   "source": []
  }
 ],
 "metadata": {
  "kernelspec": {
   "display_name": "Python 3",
   "language": "python",
   "name": "python3"
  },
  "language_info": {
   "codemirror_mode": {
    "name": "ipython",
    "version": 3
   },
   "file_extension": ".py",
   "mimetype": "text/x-python",
   "name": "python",
   "nbconvert_exporter": "python",
   "pygments_lexer": "ipython3",
   "version": "3.7.4"
  }
 },
 "nbformat": 4,
 "nbformat_minor": 2
}
